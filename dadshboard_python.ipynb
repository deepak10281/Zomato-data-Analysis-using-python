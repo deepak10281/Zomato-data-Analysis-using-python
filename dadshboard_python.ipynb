{
  "nbformat": 4,
  "nbformat_minor": 0,
  "metadata": {
    "colab": {
      "provenance": [],
      "authorship_tag": "ABX9TyOgy2afoBOD+Mz5fKpRHdx8",
      "include_colab_link": true
    },
    "kernelspec": {
      "name": "python3",
      "display_name": "Python 3"
    },
    "language_info": {
      "name": "python"
    }
  },
  "cells": [
    {
      "cell_type": "markdown",
      "metadata": {
        "id": "view-in-github",
        "colab_type": "text"
      },
      "source": [
        "<a href=\"https://colab.research.google.com/github/deepak10281/Zomato-data-Analysis-using-python/blob/main/dadshboard_python.ipynb\" target=\"_parent\"><img src=\"https://colab.research.google.com/assets/colab-badge.svg\" alt=\"Open In Colab\"/></a>"
      ]
    },
    {
      "source": [
        "import pandas as pd\n",
        "import numpy as np\n",
        "import plotly.express as px\n",
        "import dash\n",
        "from dash import dcc, html\n",
        "from dash.dependencies import Input, Output\n",
        "\n",
        "# Load the data\n",
        "df = pd.read_csv(\"zomato data.csv\")\n",
        "\n",
        "# Clean the data (example: handle missing values)\n",
        "df.dropna(inplace=True)\n",
        "\n",
        "# Assuming the column is named 'listed_in(type)' based on Zomato data structure, change it to 'cuisines'\n",
        "df.rename(columns={'listed_in(type)': 'cuisines'}, inplace=True)\n",
        "# This is based on the usual structure of Zomato data files. Replace 'listed_in(type)' with the real column name\n",
        "\n",
        "app = dash.Dash(__name__)\n",
        "\n",
        "app.layout = html.Div([\n",
        "    html.H1(\"Zomato Data Analysis Dashboard\"),\n",
        "    dcc.Dropdown(\n",
        "        id='cuisine-dropdown',\n",
        "        # Now this should work as 'cuisines' column exists\n",
        "        options=[{'label': i, 'value': i} for i in df['cuisines'].unique()],\n",
        "        value=df['cuisines'].unique()[0] # Set default to the first cuisine for safety\n",
        "    ),\n",
        "    dcc.Graph(id='cuisine-graph'),\n",
        "])\n",
        "\n",
        "@app.callback(\n",
        "    Output('cuisine-graph', 'figure'),\n",
        "    Input('cuisine-dropdown', 'value')\n",
        ")\n",
        "def update_graph(selected_cuisine):\n",
        "    # Filtering now uses the correct column name\n",
        "    filtered_df = df[df['cuisines'] == selected_cuisine]\n",
        "    fig = px.histogram(filtered_df, x=\"rate\", title=f\"Rating Distribution for {selected_cuisine} Cuisine\")\n",
        "    return fig\n",
        "\n",
        "if __name__ == '__main__':\n",
        "    app.run_server(debug=True)"
      ],
      "cell_type": "code",
      "metadata": {
        "colab": {
          "base_uri": "https://localhost:8080/",
          "height": 672
        },
        "id": "F2xeKHvxsXz5",
        "outputId": "5a9da29f-9a9b-4e92-cb26-67218947c25f"
      },
      "execution_count": 11,
      "outputs": [
        {
          "output_type": "display_data",
          "data": {
            "text/plain": [
              "<IPython.core.display.Javascript object>"
            ],
            "application/javascript": [
              "(async (port, path, width, height, cache, element) => {\n",
              "    if (!google.colab.kernel.accessAllowed && !cache) {\n",
              "      return;\n",
              "    }\n",
              "    element.appendChild(document.createTextNode(''));\n",
              "    const url = await google.colab.kernel.proxyPort(port, {cache});\n",
              "    const iframe = document.createElement('iframe');\n",
              "    iframe.src = new URL(path, url).toString();\n",
              "    iframe.height = height;\n",
              "    iframe.width = width;\n",
              "    iframe.style.border = 0;\n",
              "    iframe.allow = [\n",
              "        'accelerometer',\n",
              "        'autoplay',\n",
              "        'camera',\n",
              "        'clipboard-read',\n",
              "        'clipboard-write',\n",
              "        'gyroscope',\n",
              "        'magnetometer',\n",
              "        'microphone',\n",
              "        'serial',\n",
              "        'usb',\n",
              "        'xr-spatial-tracking',\n",
              "    ].join('; ');\n",
              "    element.appendChild(iframe);\n",
              "  })(8050, \"/\", \"100%\", 650, false, window.element)"
            ]
          },
          "metadata": {}
        }
      ]
    }
  ]
}